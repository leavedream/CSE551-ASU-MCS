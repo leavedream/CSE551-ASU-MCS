{
 "cells": [
  {
   "cell_type": "markdown",
   "metadata": {},
   "source": [
    "### Question 1\n",
    "A sequence of n operations is performed on a data structure. The ith operation costs i if i is an exact power of 2, and 1 otherwise. That is, operation i costs f(i), where f(i) = i, if i = 2^(k) for some k ≥ 0, and f(i) = 1 otherwise. Determine the amortized cost per operation using the following methods of analysis:\n",
    "\n",
    "(a) Aggregate method\n",
    "\n",
    "(b) Accounting method\n",
    "\n",
    "(c) Potential method"
   ]
  },
  {
   "cell_type": "markdown",
   "metadata": {},
   "source": [
    "#### (a) Aggregate method\n",
    "\n",
    "Ci = i    when i = 2**k (k>=0)\n",
    "     1    otherwise\n",
    "\n",
    "When there are n operations, there are floor(logn)+1 exact powers of 2, let\n",
    "k = floor(logn), meaning k is the largest int that is less than or equal to logn\n",
    "The total cost of these, TC1 = sum(2**i), where i: [0: k]\n",
    "so, TC1 = 2**(k+1) - 1 <= 2**(logn+1) = 2n\n",
    "\n",
    "The other operations all have cost of 1, and there are totally n-k-1 such operations,\n",
    "so total cost of these, TC2 = n-k-1\n",
    "\n",
    "so total cost of all n operations TC = TC1 + TC2 = 2n + n - k - 1 = 3n - k - 1 <= 3n = O(n)\n",
    "so amortized cost per operation is O(1)\n",
    "    \n",
    "#### (b) Accounting method\n",
    "Let Ci' be the cost for ith operation we choose for accounting method, our purpose is to make sure the credit we collect can cover the future operations. \n",
    "Let bi be the credit balance after ith operation, so\n",
    "bi = Ci' - Ci\n",
    "\n",
    "Assume we want Ci' to be the same for all operations, we denote this number as x, so we know\n",
    "b1 = x - C1\n",
    "b1 = b1 + x - C2\n",
    "b3 = b2 + x - C3 = b1 + x + x - C2 - C3 = 3x - (C1 + C2 + C3)\n",
    "...\n",
    "bi = x * i - (C1 + C2 + C3 + ... + Ci)\n",
    "\n",
    "from (a) we know, total cost of the first ith operations <= 3 * i, so\n",
    "bi >= x * i - 3 * i = (x-3) * i\n",
    "we need the credit balance (bi) to be larger than 0 for each operations, so we must have x >= 3. In this case, our accounting method could be that we assign the amortized costs to be 3 for each operation,\n",
    "Ci' = 3\n",
    "\n",
    "It's O(1) cost.\n",
    "\n",
    "\n",
    "#### (c) Potential method\n",
    "Define potential method as below:\n",
    "P(0) = 0\n",
    "P(i) = 2i - 2 ** (floor(logi) + 1) + 1 for i > 0\n",
    "* When i is exact power of 2, we have\n",
    "P(i)   = 2 * i - 2 * i + 1\n",
    "P(i-1) = 2 * (i-1) - i + 1 \n",
    "so P(i) - P(i-1) = 2 - i\n",
    "\n",
    "so Ci^ = Ci + P(i) - P(i-1) = i + 2 - i = 2\n",
    "\n",
    "* When i is not exact power of 2, we have\n",
    "P(i)   = 2i - i + 1\n",
    "P(i-1) = 2(i-1) - i + 1\n",
    "so P(i) - P(i-1) = 2\n",
    "\n",
    "so Ci^ = Ci + P(i) - P(i-1) = 1 + 2 = 3\n",
    "\n",
    "As seen above, the amoritized cost is O(1). Also, we know that for (b) Accounting method, we can also define our cost Ci' to be\n",
    "Ci' = 2  if i = 2**k (k>=0)\n",
    "      3  otherwise\n",
    "\n"
   ]
  },
  {
   "cell_type": "markdown",
   "metadata": {},
   "source": [
    "Question 2\n",
    "Suppose that we have a stack S that supports the following operations: Push (S,x), which pushes an element x on top of the stack S, Pop (S), which removes the element at the top of stack S, and MultiPop (S,k), which removes the top k elements from the stack S (if we try to remove more elements than the current number of elements on the stack in a Pop or MultiPop operation, only the elements currently on the stack will be returned). Assume that the stack is initially empty. Give a potential function argument showing that the amortized running time of each of the three stack operations is Θ(1)."
   ]
  }
 ],
 "metadata": {
  "kernelspec": {
   "display_name": "Python 3",
   "language": "python",
   "name": "python3"
  },
  "language_info": {
   "codemirror_mode": {
    "name": "ipython",
    "version": 3
   },
   "file_extension": ".py",
   "mimetype": "text/x-python",
   "name": "python",
   "nbconvert_exporter": "python",
   "pygments_lexer": "ipython3",
   "version": "3.6.3"
  }
 },
 "nbformat": 4,
 "nbformat_minor": 2
}
